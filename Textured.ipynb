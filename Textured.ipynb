{
 "cells": [
  {
   "cell_type": "markdown",
   "source": [
    "### Go to Url : ' https://www.target.com/c/textured-hair-care/-/N-4rsrf '\n",
    "### Click the first product's title\n",
    "### On the next page find where it says 'drug facts' and click\n",
    "### Scrape 'Inactive Ingredients' body"
   ],
   "metadata": {
    "collapsed": false
   }
  },
  {
   "cell_type": "code",
   "execution_count": null,
   "outputs": [],
   "source": [
    "import time\n",
    "import re\n",
    "\n",
    "from selenium import webdriver\n",
    "from selenium.webdriver.common.keys import Keys\n",
    "from selenium.webdriver.common.by import By\n",
    "from selenium.common.exceptions import NoSuchElementException, TimeoutException\n",
    "from selenium.webdriver.remote.webelement import WebElement\n",
    "from selenium.webdriver.support.wait import WebDriverWait\n",
    "from selenium.webdriver.support import expected_conditions as EC\n",
    "import pandas as pd\n",
    "import csv\n"
   ],
   "metadata": {
    "collapsed": false,
    "pycharm": {
     "name": "#%%\n",
     "is_executing": true
    }
   }
  },
  {
   "cell_type": "code",
   "execution_count": null,
   "outputs": [],
   "source": [
    "\n",
    "\n",
    "driver_path = '/Users/Yan/Downloads/chromedriver'\n",
    "driver = webdriver.Chrome(executable_path=driver_path)\n",
    "\n",
    "df = pd.DataFrame(columns=['Brand', 'Name', 'Beauty_Purpose', 'Product_Form', 'Ingredients','Label', 'URL']) # creates master dataframe\n",
    "\n",
    "def scrollDown(driver, n_scroll):\n",
    "    body = driver.find_element_by_tag_name(\"body\")\n",
    "    while n_scroll >= 0:\n",
    "        body.send_keys(Keys.PAGE_DOWN)\n",
    "        n_scroll -= 1\n",
    "    return driver\n",
    "\n",
    "\n",
    "\n",
    "url = 'https://www.target.com/c/textured-hair-care/leave-in-conditioners/-/N-4rsrfZcrx6h?type=products&Nao='\n",
    "driver.get(url)\n",
    "time.sleep(10)\n",
    "\n",
    "driver.execute_script(\"window.scrollTo(0, document.body.scrollHeight= 23452)\")  # 23452 - page height\n",
    "time.sleep(10)\n",
    "\n",
    "element = driver.find_elements_by_class_name(\"Col-favj32-0 bTvKos h-padding-a-none h-display-flex\")\n",
    "\n",
    "for a in element:\n",
    "    subURL = a.get_attribute('href')\n",
    "    url = df. subURL[0]\n",
    "    driver.get(url)\n",
    "    time.sleep(5)\n",
    "\n",
    "driver.get(url)\n"
   ],
   "metadata": {
    "collapsed": false,
    "pycharm": {
     "name": "#%%\n",
     "is_executing": true
    }
   }
  },
  {
   "cell_type": "code",
   "execution_count": null,
   "outputs": [],
   "source": [],
   "metadata": {
    "collapsed": false,
    "pycharm": {
     "name": "#%%\n"
    }
   }
  }
 ],
 "metadata": {
  "kernelspec": {
   "display_name": "Python 3",
   "language": "python",
   "name": "python3"
  },
  "language_info": {
   "codemirror_mode": {
    "name": "ipython",
    "version": 2
   },
   "file_extension": ".py",
   "mimetype": "text/x-python",
   "name": "python",
   "nbconvert_exporter": "python",
   "pygments_lexer": "ipython2",
   "version": "2.7.6"
  }
 },
 "nbformat": 4,
 "nbformat_minor": 0
}